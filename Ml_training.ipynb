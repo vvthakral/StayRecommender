{
 "cells": [
  {
   "cell_type": "markdown",
   "metadata": {},
   "source": [
    "Stay Recommendations:\n",
    "Machine Learning model training and prediction"
   ]
  },
  {
   "cell_type": "code",
   "execution_count": 75,
   "metadata": {},
   "outputs": [],
   "source": [
    "import findspark\n",
    "findspark.init(\"C:/ProgramData/Anaconda3/Lib/site-packages/pyspark/\")"
   ]
  },
  {
   "cell_type": "code",
   "execution_count": 76,
   "metadata": {},
   "outputs": [
    {
     "data": {
      "text/html": [
       "\n",
       "            <div>\n",
       "                <p><b>SparkSession - in-memory</b></p>\n",
       "                \n",
       "        <div>\n",
       "            <p><b>SparkContext</b></p>\n",
       "\n",
       "            <p><a href=\"http://LAPTOP-EAQMNDG5:4040\">Spark UI</a></p>\n",
       "\n",
       "            <dl>\n",
       "              <dt>Version</dt>\n",
       "                <dd><code>v2.4.4</code></dd>\n",
       "              <dt>Master</dt>\n",
       "                <dd><code>local[*]</code></dd>\n",
       "              <dt>AppName</dt>\n",
       "                <dd><code>Final_project</code></dd>\n",
       "            </dl>\n",
       "        </div>\n",
       "        \n",
       "            </div>\n",
       "        "
      ],
      "text/plain": [
       "<pyspark.sql.session.SparkSession at 0x1df392e3848>"
      ]
     },
     "execution_count": 76,
     "metadata": {},
     "output_type": "execute_result"
    }
   ],
   "source": [
    "from pyspark.sql import SparkSession\n",
    "\n",
    "spark = SparkSession\\\n",
    "        .builder\\\n",
    "        .appName(\"Final_project\")\\\n",
    "        .getOrCreate()\n",
    "spark"
   ]
  },
  {
   "cell_type": "code",
   "execution_count": 77,
   "metadata": {},
   "outputs": [
    {
     "data": {
      "text/html": [
       "\n",
       "        <div>\n",
       "            <p><b>SparkContext</b></p>\n",
       "\n",
       "            <p><a href=\"http://LAPTOP-EAQMNDG5:4040\">Spark UI</a></p>\n",
       "\n",
       "            <dl>\n",
       "              <dt>Version</dt>\n",
       "                <dd><code>v2.4.4</code></dd>\n",
       "              <dt>Master</dt>\n",
       "                <dd><code>local[*]</code></dd>\n",
       "              <dt>AppName</dt>\n",
       "                <dd><code>Final_project</code></dd>\n",
       "            </dl>\n",
       "        </div>\n",
       "        "
      ],
      "text/plain": [
       "<SparkContext master=local[*] appName=Final_project>"
      ]
     },
     "execution_count": 77,
     "metadata": {},
     "output_type": "execute_result"
    }
   ],
   "source": [
    "sc = spark.sparkContext\n",
    "sc"
   ]
  },
  {
   "cell_type": "code",
   "execution_count": 78,
   "metadata": {},
   "outputs": [],
   "source": [
    "# import some packages from the spark.sql,spark.ml to deal with data types and schemas\n",
    "from pyspark.sql.types import StructType, StructField, StringType, IntegerType, DoubleType\n",
    "from pyspark.sql.functions import substring, length, col, expr,asc, desc, col, struct, monotonically_increasing_id, mean, udf\n",
    "from pyspark.ml.feature import MinMaxScaler, VectorAssembler\n",
    "from pyspark.ml import Pipeline\n",
    "from pyspark.ml.classification import LogisticRegression\n",
    "from pyspark.ml.evaluation import MulticlassClassificationEvaluator"
   ]
  },
  {
   "cell_type": "code",
   "execution_count": 79,
   "metadata": {},
   "outputs": [
    {
     "name": "stdout",
     "output_type": "stream",
     "text": [
      "+---+----------------+-----------+--------+----------------------+----------------------------+----------------+-----------------+-----+-----------------+--------------------+\n",
      "|_c0|count_restaurant|count_crime|      id|neighbourhood_cleansed|neighbourhood_group_cleansed|Latitude_listing|Longitude_listing|price|number_of_reviews|review_scores_rating|\n",
      "+---+----------------+-----------+--------+----------------------+----------------------------+----------------+-----------------+-----+-----------------+--------------------+\n",
      "|  0|             987|         37|10034090|          Williamsburg|                    Brooklyn|        40.71049|        -73.94515|   40|                1|               100.0|\n",
      "|  1|            4375|         99| 1022204|       Lower East Side|                   Manhattan|        40.72198|        -73.98932|  110|               49|                98.0|\n",
      "|  2|             686|         24|10234090|           Sunset Park|                    Brooklyn|         40.6642|        -73.99371|  105|                1|                80.0|\n",
      "|  3|            3341|         81|10500222|          West Village|                   Manhattan|        40.73492|        -74.00457|  196|                2|               100.0|\n",
      "|  4|             155|         10|10537769|            Greenpoint|                    Brooklyn|        40.72963|        -73.94937|   45|                0|                null|\n",
      "+---+----------------+-----------+--------+----------------------+----------------------------+----------------+-----------------+-----+-----------------+--------------------+\n",
      "only showing top 5 rows\n",
      "\n"
     ]
    }
   ],
   "source": [
    "#Read files into into dataframe\n",
    "df_all = spark.read \\\n",
    "    .format(\"csv\") \\\n",
    "    .option(\"header\", \"true\") \\\n",
    "    .option(\"inferSchema\",\"true\") \\\n",
    "    .load(\"Cleaned_ETL_for_ML.csv\")\n",
    "df_all.show(5)\n",
    "#df_b comtains everythin, all of data for ML algorithm to be run\n",
    "#This will load the data file stored for a particular city (here New York) for training"
   ]
  },
  {
   "cell_type": "code",
   "execution_count": 80,
   "metadata": {},
   "outputs": [
    {
     "name": "stdout",
     "output_type": "stream",
     "text": [
      "root\n",
      " |-- _c0: integer (nullable = true)\n",
      " |-- count_restaurant: integer (nullable = true)\n",
      " |-- count_crime: integer (nullable = true)\n",
      " |-- id: integer (nullable = true)\n",
      " |-- neighbourhood_cleansed: string (nullable = true)\n",
      " |-- neighbourhood_group_cleansed: string (nullable = true)\n",
      " |-- Latitude_listing: double (nullable = true)\n",
      " |-- Longitude_listing: double (nullable = true)\n",
      " |-- price: integer (nullable = true)\n",
      " |-- number_of_reviews: integer (nullable = true)\n",
      " |-- review_scores_rating: double (nullable = true)\n",
      "\n"
     ]
    }
   ],
   "source": [
    "df_all.printSchema()"
   ]
  },
  {
   "cell_type": "code",
   "execution_count": 81,
   "metadata": {},
   "outputs": [
    {
     "name": "stdout",
     "output_type": "stream",
     "text": [
      "+---+----------------+-----------+--------+----------------------+----------------------------+----------------+-----------------+-----+-----------------+--------------------+\n",
      "|_c0|count_restaurant|count_crime|      id|neighbourhood_cleansed|neighbourhood_group_cleansed|Latitude_listing|Longitude_listing|price|number_of_reviews|review_scores_rating|\n",
      "+---+----------------+-----------+--------+----------------------+----------------------------+----------------+-----------------+-----+-----------------+--------------------+\n",
      "|  0|             987|         37|10034090|          Williamsburg|                    Brooklyn|        40.71049|        -73.94515|   40|                1|                  20|\n",
      "|  1|            4375|         99| 1022204|       Lower East Side|                   Manhattan|        40.72198|        -73.98932|  110|               49|                  19|\n",
      "|  2|             686|         24|10234090|           Sunset Park|                    Brooklyn|         40.6642|        -73.99371|  105|                1|                  16|\n",
      "|  3|            3341|         81|10500222|          West Village|                   Manhattan|        40.73492|        -74.00457|  196|                2|                  20|\n",
      "|  4|             155|         10|10537769|            Greenpoint|                    Brooklyn|        40.72963|        -73.94937|   45|                0|                null|\n",
      "+---+----------------+-----------+--------+----------------------+----------------------------+----------------+-----------------+-----+-----------------+--------------------+\n",
      "only showing top 5 rows\n",
      "\n"
     ]
    }
   ],
   "source": [
    "#Selecting the required columns i.e count_restaurant,count_crime,price,review_scores_rating for training \n",
    "#use_data=df_b.select(\"count_restaurant\",\"count_crime\",\"price\",\"review_scores_rating\")\n",
    "\n",
    "#This part was shifted to pre processing stage\n",
    "#train_use_data=train_use_data.withColumn(\"price\",expr(\"substring(price, 2, length(price))\").cast(\"float\"))\n",
    "\n",
    "#Review score rating have been c\n",
    "df_all=df_all.withColumn(\"review_scores_rating\",(df_all[\"review_scores_rating\"]/5).cast(\"int\")).filter(df_all.price.isNotNull())\n",
    "df_all.show(5)"
   ]
  },
  {
   "cell_type": "code",
   "execution_count": 82,
   "metadata": {},
   "outputs": [
    {
     "name": "stdout",
     "output_type": "stream",
     "text": [
      "+---+----------------+-----------+--------+----------------------+----------------------------+----------------+-----------------+-----+-----------------+--------------------+\n",
      "|_c0|count_restaurant|count_crime|      id|neighbourhood_cleansed|neighbourhood_group_cleansed|Latitude_listing|Longitude_listing|price|number_of_reviews|review_scores_rating|\n",
      "+---+----------------+-----------+--------+----------------------+----------------------------+----------------+-----------------+-----+-----------------+--------------------+\n",
      "|  0|             987|         37|10034090|          Williamsburg|                    Brooklyn|        40.71049|        -73.94515|   40|                1|                  20|\n",
      "|  1|            4375|         99| 1022204|       Lower East Side|                   Manhattan|        40.72198|        -73.98932|  110|               49|                  19|\n",
      "|  2|             686|         24|10234090|           Sunset Park|                    Brooklyn|         40.6642|        -73.99371|  105|                1|                  16|\n",
      "|  3|            3341|         81|10500222|          West Village|                   Manhattan|        40.73492|        -74.00457|  196|                2|                  20|\n",
      "|  5|            3164|        106|10692885|               Chelsea|                   Manhattan|        40.74237|        -74.00063|  120|                2|                  20|\n",
      "+---+----------------+-----------+--------+----------------------+----------------------------+----------------+-----------------+-----+-----------------+--------------------+\n",
      "only showing top 5 rows\n",
      "\n",
      "After Scaling :\n",
      "+---+----------------+-----------+--------+----------------------+----------------------------+----------------+-----------------+-----+-----------------+--------------------+\n",
      "|_c0|count_restaurant|count_crime|      id|neighbourhood_cleansed|neighbourhood_group_cleansed|Latitude_listing|Longitude_listing|price|number_of_reviews|review_scores_rating|\n",
      "+---+----------------+-----------+--------+----------------------+----------------------------+----------------+-----------------+-----+-----------------+--------------------+\n",
      "|  0|            0.13|      0.121|10034090|          Williamsburg|                    Brooklyn|        40.71049|        -73.94515| 0.04|                1|                  20|\n",
      "|  1|           0.578|       0.33| 1022204|       Lower East Side|                   Manhattan|        40.72198|        -73.98932| 0.11|               49|                  19|\n",
      "|  2|           0.091|      0.077|10234090|           Sunset Park|                    Brooklyn|         40.6642|        -73.99371|0.105|                1|                  16|\n",
      "|  3|           0.441|      0.269|10500222|          West Village|                   Manhattan|        40.73492|        -74.00457|0.196|                2|                  20|\n",
      "|  5|           0.418|      0.354|10692885|               Chelsea|                   Manhattan|        40.74237|        -74.00063| 0.12|                2|                  20|\n",
      "+---+----------------+-----------+--------+----------------------+----------------------------+----------------+-----------------+-----+-----------------+--------------------+\n",
      "only showing top 5 rows\n",
      "\n"
     ]
    }
   ],
   "source": [
    "\n",
    "train_use_data=df_all.where(col(\"review_scores_rating\").isNotNull())\n",
    "\n",
    "#We will scale the data in various columns/attributes so that attributes have equal impact on the model parameters\n",
    "#df=train_use_data\n",
    "train_use_data.show(5)\n",
    "# UDF for converting column type from vector to double type\n",
    "unlist = udf(lambda x: round(float(list(x)[0]),3), DoubleType())\n",
    "\n",
    "# Iterating over columns to be scaled\n",
    "for i in [\"count_restaurant\",\"count_crime\",\"price\"]:\n",
    "    # VectorAssembler Transformation - Converting column to vector type\n",
    "    assembler = VectorAssembler(inputCols=[i],outputCol=i+\"_Vect\")\n",
    "\n",
    "    # MinMaxScaler Transformation\n",
    "    scaler = MinMaxScaler(inputCol=i+\"_Vect\", outputCol=i+\"_Scaled\")\n",
    "\n",
    "    # Pipeline of VectorAssembler and MinMaxScaler\n",
    "    pipeline = Pipeline(stages=[assembler, scaler])\n",
    "\n",
    "    # Fitting pipeline on dataframe\n",
    "    train_use_data = pipeline.fit(train_use_data).transform(train_use_data).withColumn(i,unlist(i+\"_Scaled\")).drop(i+\"_Vect\",i+\"_Scaled\")\n",
    "\n",
    "print(\"After Scaling :\")\n",
    "train_use_data.show(5)"
   ]
  },
  {
   "cell_type": "code",
   "execution_count": 83,
   "metadata": {
    "scrolled": false
   },
   "outputs": [
    {
     "name": "stdout",
     "output_type": "stream",
     "text": [
      "+---+----------------+-----------+--------+----------------------+----------------------------+----------------+-----------------+-----+-----------------+--------------------+\n",
      "|_c0|count_restaurant|count_crime|      id|neighbourhood_cleansed|neighbourhood_group_cleansed|Latitude_listing|Longitude_listing|price|number_of_reviews|review_scores_rating|\n",
      "+---+----------------+-----------+--------+----------------------+----------------------------+----------------+-----------------+-----+-----------------+--------------------+\n",
      "|  0|            0.13|      0.121|10034090|          Williamsburg|                    Brooklyn|        40.71049|        -73.94515| 0.04|                1|                  20|\n",
      "|  1|           0.578|       0.33| 1022204|       Lower East Side|                   Manhattan|        40.72198|        -73.98932| 0.11|               49|                  19|\n",
      "+---+----------------+-----------+--------+----------------------+----------------------------+----------------+-----------------+-----+-----------------+--------------------+\n",
      "only showing top 2 rows\n",
      "\n"
     ]
    }
   ],
   "source": [
    "#split data for model training and testing\n",
    "a,b=train_use_data.randomSplit([0.75, 0.25],seed=5)\n",
    "a.show(2)"
   ]
  },
  {
   "cell_type": "code",
   "execution_count": 84,
   "metadata": {},
   "outputs": [
    {
     "name": "stdout",
     "output_type": "stream",
     "text": [
      "+---+----------------+-----------+--------+----------------------+----------------------------+----------------+-----------------+-----+-----------------+--------------------+----------------------+\n",
      "|_c0|count_restaurant|count_crime|id      |neighbourhood_cleansed|neighbourhood_group_cleansed|Latitude_listing|Longitude_listing|price|number_of_reviews|review_scores_rating|features              |\n",
      "+---+----------------+-----------+--------+----------------------+----------------------------+----------------+-----------------+-----+-----------------+--------------------+----------------------+\n",
      "|0  |0.13            |0.121      |10034090|Williamsburg          |Brooklyn                    |40.71049        |-73.94515        |0.04 |1                |20                  |[0.13,0.121,0.04,20.0]|\n",
      "|1  |0.578           |0.33       |1022204 |Lower East Side       |Manhattan                   |40.72198        |-73.98932        |0.11 |49               |19                  |[0.578,0.33,0.11,19.0]|\n",
      "+---+----------------+-----------+--------+----------------------+----------------------------+----------------+-----------------+-----+-----------------+--------------------+----------------------+\n",
      "only showing top 2 rows\n",
      "\n"
     ]
    }
   ],
   "source": [
    "\n",
    "assembler = VectorAssembler(inputCols=['count_restaurant', 'count_crime', 'price', 'review_scores_rating'],outputCol=\"features\")\n",
    "#Transorming the dataframe to create a features column so that the Logistic Regression model can be trained with \n",
    "#features (vector column) and the output review_scores_rating\n",
    "a=assembler.transform(a)\n",
    "a.show(2,truncate=False)"
   ]
  },
  {
   "cell_type": "code",
   "execution_count": 85,
   "metadata": {},
   "outputs": [],
   "source": [
    "#Importing Logistic regression from pyspark.ml\n"
   ]
  },
  {
   "cell_type": "code",
   "execution_count": 86,
   "metadata": {},
   "outputs": [
    {
     "name": "stdout",
     "output_type": "stream",
     "text": [
      "Coefficients: \n",
      "21 X 4 CSCMatrix\n",
      "(16,1) -0.0244\n",
      "(19,2) 0.2896\n",
      "(20,3) 0.8884\n",
      "Intercept: [-587.5366817809942,-587.5366817809942,-587.5366817809942,-587.5366817809942,184.60269291806563,-587.5366817809942,181.95814420286464,179.3932111580719,184.39715070568317,181.79106361204282,183.7499080526778,181.5904386988544,185.60780183464468,184.26073870362552,185.47541521055112,185.5669916987404,187.7372042424789,187.4540505154091,188.44442210595494,183.53872685093125,172.11544839437377]\n"
     ]
    }
   ],
   "source": [
    "#Create instance of Logistic regression for our use.\n",
    "#The value of regParam was adjusted to be 0.08 after testing a number of values\n",
    "lr = LogisticRegression(maxIter=1000, regParam=0.08, elasticNetParam=0.6,featuresCol='features',labelCol='review_scores_rating')\n",
    "\n",
    "# Fit the model\n",
    "lrModel = lr.fit(a)\n",
    "\n",
    "# Print the coefficients and intercept for multinomial logistic regression\n",
    "print(\"Coefficients: \\n\" + str(lrModel.coefficientMatrix))\n",
    "print(\"Intercept: \" + str(lrModel.interceptVector))"
   ]
  },
  {
   "cell_type": "code",
   "execution_count": 87,
   "metadata": {},
   "outputs": [
    {
     "name": "stdout",
     "output_type": "stream",
     "text": [
      "+---+----------------+-----------+--------+----------------------+----------------------------+----------------+-----------------+-----+-----------------+--------------------+--------------------+\n",
      "|_c0|count_restaurant|count_crime|      id|neighbourhood_cleansed|neighbourhood_group_cleansed|Latitude_listing|Longitude_listing|price|number_of_reviews|review_scores_rating|            features|\n",
      "+---+----------------+-----------+--------+----------------------+----------------------------+----------------+-----------------+-----+-----------------+--------------------+--------------------+\n",
      "| 12|           0.041|      0.128|11948586|              Flatbush|                    Brooklyn|        40.63836|        -73.95698|0.085|                6|                  14|[0.041,0.128,0.08...|\n",
      "| 15|            0.09|      0.178|12643924|  Prospect-Lefferts...|                    Brooklyn|        40.65447|        -73.96122|0.041|               44|                  18|[0.09,0.178,0.041...|\n",
      "+---+----------------+-----------+--------+----------------------+----------------------------+----------------+-----------------+-----+-----------------+--------------------+--------------------+\n",
      "only showing top 2 rows\n",
      "\n"
     ]
    }
   ],
   "source": [
    "#add featurescolumn to the testing data too\n",
    "assembler = VectorAssembler(inputCols=['count_restaurant', 'count_crime', 'price', 'review_scores_rating'],outputCol=\"features\")\n",
    "b=assembler.transform(b)\n",
    "b.show(2)"
   ]
  },
  {
   "cell_type": "code",
   "execution_count": 88,
   "metadata": {},
   "outputs": [
    {
     "name": "stdout",
     "output_type": "stream",
     "text": [
      "+---+----------------+-----------+--------+----------------------+----------------------------+----------------+-----------------+-----+-----------------+--------------------+--------------------+--------------------+--------------------+----------+\n",
      "|_c0|count_restaurant|count_crime|      id|neighbourhood_cleansed|neighbourhood_group_cleansed|Latitude_listing|Longitude_listing|price|number_of_reviews|review_scores_rating|            features|       rawPrediction|         probability|prediction|\n",
      "+---+----------------+-----------+--------+----------------------+----------------------------+----------------+-----------------+-----+-----------------+--------------------+--------------------+--------------------+--------------------+----------+\n",
      "| 12|           0.041|      0.128|11948586|              Flatbush|                    Brooklyn|        40.63836|        -73.95698|0.085|                6|                  14|[0.041,0.128,0.08...|[-587.53668178099...|[0.0,0.0,0.0,0.0,...|      18.0|\n",
      "| 15|            0.09|      0.178|12643924|  Prospect-Lefferts...|                    Brooklyn|        40.65447|        -73.96122|0.041|               44|                  18|[0.09,0.178,0.041...|[-587.53668178099...|[0.0,0.0,0.0,0.0,...|      19.0|\n",
      "+---+----------------+-----------+--------+----------------------+----------------------------+----------------+-----------------+-----+-----------------+--------------------+--------------------+--------------------+--------------------+----------+\n",
      "only showing top 2 rows\n",
      "\n"
     ]
    }
   ],
   "source": [
    "#Showing predictions vs the actual review_rating\n",
    "predictions_b = lrModel.transform(b)\n",
    "predictions_b.show(2)"
   ]
  },
  {
   "cell_type": "code",
   "execution_count": 91,
   "metadata": {},
   "outputs": [
    {
     "name": "stdout",
     "output_type": "stream",
     "text": [
      "Test Error = 15.500000 %\n"
     ]
    }
   ],
   "source": [
    "#Evaluating the accuracy of the model\n",
    "\n",
    "# Select (prediction, true label) and compute test error\n",
    "evaluator = MulticlassClassificationEvaluator(\n",
    "    labelCol=\"review_scores_rating\", predictionCol=\"prediction\", metricName=\"accuracy\")\n",
    "accuracy = evaluator.evaluate(predictions)\n",
    "print(\"Test Error = %f %%\" % (100*float(1.0 - accuracy"
   ]
  },
  {
   "cell_type": "code",
   "execution_count": 90,
   "metadata": {},
   "outputs": [],
   "source": [
    "#Run this cell to call the GUI else it can be executed separately too\n",
    "#Call the GUI for the customer to search for stay recommendations\n",
    "#%run ./Tkinter_Gui.ipynb"
   ]
  },
  {
   "cell_type": "code",
   "execution_count": null,
   "metadata": {},
   "outputs": [],
   "source": []
  }
 ],
 "metadata": {
  "kernelspec": {
   "display_name": "Python 3",
   "language": "python",
   "name": "python3"
  },
  "language_info": {
   "codemirror_mode": {
    "name": "ipython",
    "version": 3
   },
   "file_extension": ".py",
   "mimetype": "text/x-python",
   "name": "python",
   "nbconvert_exporter": "python",
   "pygments_lexer": "ipython3",
   "version": "3.7.4"
  }
 },
 "nbformat": 4,
 "nbformat_minor": 2
}
